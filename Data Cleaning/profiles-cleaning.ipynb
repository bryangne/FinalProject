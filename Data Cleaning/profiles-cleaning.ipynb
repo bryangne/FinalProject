{
 "cells": [
  {
   "cell_type": "markdown",
   "metadata": {},
   "source": [
    "# Data Cleaning\n",
    "Data cleaning of a MyAnimeList dataset. It can be found [here](https://www.kaggle.com/marlesson/myanimelist-dataset-animes-profiles-reviews)\n",
    "\n",
    "The dataset contains 3 files:\n",
    "\n",
    "- **animes.csv** contains list of anime, with title, title synonyms, genre, duration, rank, populatiry, score, airing date, episodes and many other important data about individual anime providing sufficient information about trends in time about important aspects of anime. Rank is in float format in csv, but it contains only integer value. This is due to NaN values and their representation in pandas.\n",
    "\n",
    "- **profiles.csv** contains information about users who watch anime, namely username, birth date, gender, and favorite animes list.\n",
    "\n",
    "- **reviews.csv** contains information about reviews users x animes, with text review and scores."
   ]
  },
  {
   "cell_type": "code",
   "execution_count": 2,
   "metadata": {},
   "outputs": [],
   "source": [
    "import pandas as pd"
   ]
  },
  {
   "cell_type": "markdown",
   "metadata": {},
   "source": [
    "## Profiles Dataset\n",
    "As before, we will load the dataset and explore the features."
   ]
  },
  {
   "cell_type": "code",
   "execution_count": 3,
   "metadata": {},
   "outputs": [],
   "source": [
    "profiles = pd.read_csv('../data/profiles.csv')"
   ]
  },
  {
   "cell_type": "code",
   "execution_count": 4,
   "metadata": {},
   "outputs": [
    {
     "data": {
      "text/plain": [
       "profile                0\n",
       "gender             27871\n",
       "birthday           34920\n",
       "favorites_anime        0\n",
       "link                   0\n",
       "dtype: int64"
      ]
     },
     "execution_count": 4,
     "metadata": {},
     "output_type": "execute_result"
    }
   ],
   "source": [
    "profiles.isna().sum()"
   ]
  },
  {
   "cell_type": "code",
   "execution_count": 5,
   "metadata": {},
   "outputs": [
    {
     "data": {
      "text/html": [
       "<div>\n",
       "<style scoped>\n",
       "    .dataframe tbody tr th:only-of-type {\n",
       "        vertical-align: middle;\n",
       "    }\n",
       "\n",
       "    .dataframe tbody tr th {\n",
       "        vertical-align: top;\n",
       "    }\n",
       "\n",
       "    .dataframe thead th {\n",
       "        text-align: right;\n",
       "    }\n",
       "</style>\n",
       "<table border=\"1\" class=\"dataframe\">\n",
       "  <thead>\n",
       "    <tr style=\"text-align: right;\">\n",
       "      <th></th>\n",
       "      <th>profile</th>\n",
       "      <th>gender</th>\n",
       "      <th>birthday</th>\n",
       "      <th>favorites_anime</th>\n",
       "      <th>link</th>\n",
       "    </tr>\n",
       "  </thead>\n",
       "  <tbody>\n",
       "    <tr>\n",
       "      <th>0</th>\n",
       "      <td>DesolatePsyche</td>\n",
       "      <td>Male</td>\n",
       "      <td>Oct 2, 1994</td>\n",
       "      <td>['33352', '25013', '5530', '33674', '1482', '2...</td>\n",
       "      <td>https://myanimelist.net/profile/DesolatePsyche</td>\n",
       "    </tr>\n",
       "    <tr>\n",
       "      <th>1</th>\n",
       "      <td>baekbeans</td>\n",
       "      <td>Female</td>\n",
       "      <td>Nov 10, 2000</td>\n",
       "      <td>['11061', '31964', '853', '20583', '918', '925...</td>\n",
       "      <td>https://myanimelist.net/profile/baekbeans</td>\n",
       "    </tr>\n",
       "    <tr>\n",
       "      <th>2</th>\n",
       "      <td>skrn</td>\n",
       "      <td>NaN</td>\n",
       "      <td>NaN</td>\n",
       "      <td>['918', '2904', '11741', '17074', '23273', '32...</td>\n",
       "      <td>https://myanimelist.net/profile/skrn</td>\n",
       "    </tr>\n",
       "    <tr>\n",
       "      <th>3</th>\n",
       "      <td>edgewalker00</td>\n",
       "      <td>Male</td>\n",
       "      <td>Sep 5</td>\n",
       "      <td>['5680', '849', '2904', '3588', '37349']</td>\n",
       "      <td>https://myanimelist.net/profile/edgewalker00</td>\n",
       "    </tr>\n",
       "    <tr>\n",
       "      <th>4</th>\n",
       "      <td>aManOfCulture99</td>\n",
       "      <td>Male</td>\n",
       "      <td>Oct 30, 1999</td>\n",
       "      <td>['4181', '7791', '9617', '5680', '2167', '4382...</td>\n",
       "      <td>https://myanimelist.net/profile/aManOfCulture99</td>\n",
       "    </tr>\n",
       "  </tbody>\n",
       "</table>\n",
       "</div>"
      ],
      "text/plain": [
       "           profile  gender      birthday  \\\n",
       "0   DesolatePsyche    Male   Oct 2, 1994   \n",
       "1        baekbeans  Female  Nov 10, 2000   \n",
       "2             skrn     NaN           NaN   \n",
       "3     edgewalker00    Male         Sep 5   \n",
       "4  aManOfCulture99    Male  Oct 30, 1999   \n",
       "\n",
       "                                     favorites_anime  \\\n",
       "0  ['33352', '25013', '5530', '33674', '1482', '2...   \n",
       "1  ['11061', '31964', '853', '20583', '918', '925...   \n",
       "2  ['918', '2904', '11741', '17074', '23273', '32...   \n",
       "3           ['5680', '849', '2904', '3588', '37349']   \n",
       "4  ['4181', '7791', '9617', '5680', '2167', '4382...   \n",
       "\n",
       "                                              link  \n",
       "0   https://myanimelist.net/profile/DesolatePsyche  \n",
       "1        https://myanimelist.net/profile/baekbeans  \n",
       "2             https://myanimelist.net/profile/skrn  \n",
       "3     https://myanimelist.net/profile/edgewalker00  \n",
       "4  https://myanimelist.net/profile/aManOfCulture99  "
      ]
     },
     "execution_count": 5,
     "metadata": {},
     "output_type": "execute_result"
    }
   ],
   "source": [
    "profiles.head()"
   ]
  },
  {
   "cell_type": "markdown",
   "metadata": {},
   "source": [
    "We can see that there are profile, gender, birthday, favorites_anime, and link features.\n",
    "1. profile. This is a unique identifier.\n",
    "2. gender. The user's gender. There are four groups: Male, female, other, and none. None is when a user declines to specify their gender.\n",
    "3. birthday. The user's birthday. As shown above, there are quite a few missing birthdays.\n",
    "4. favorites_anime. An array containing the id's of animes that a user has favorited.\n",
    "5. link. The link to a user's profile page.\n",
    "\n",
    "Of these 5 features, the ones that are useful to us are the profile, gender, and favorites_anime features. Birthdays don't typically relate to a user's genre preferences, but even if they do, it will be difficult to determine the missing birthdates with any reasonable accuracy. Links are obviously not useful for a clustering algorithm, so it can also be dropped."
   ]
  },
  {
   "cell_type": "markdown",
   "metadata": {},
   "source": [
    "If we look at the gender feature, we find that a large number of users don't have a gender specified. We will have to decide what to do with these missing values. As discussed before, we could try dropping the missing values, but this is a poor choice. Gender is likely to have a large impact on a user's genre preferences. For example, the romance genre should have a larger proportion of female users than males. We could try filling in with the mode, the more common of the two genders. This is also bad, since it will skew the gender even more towards the greater one.\n",
    "\n",
    "Instead, what we will be using a simple classification algorithm to fill in the missing gender values. We won't be covering this right now, but rather later on after we have finished cleaning up the rest of the data."
   ]
  },
  {
   "cell_type": "markdown",
   "metadata": {},
   "source": [
    "Let's look at the favorites_anime feature. Again we can see that it's in a string formatted as an array, rather than an actual array. We will need to use our trusty conversion method again."
   ]
  },
  {
   "cell_type": "code",
   "execution_count": 6,
   "metadata": {},
   "outputs": [],
   "source": [
    "# takes in any string, strips all punctuation and returns an array\n",
    "# import re\n",
    "import ast\n",
    "def perfectEval(anonstring):\n",
    "        try:\n",
    "            ev = ast.literal_eval(anonstring)\n",
    "            return ev\n",
    "        except ValueError:\n",
    "            corrected = \"\\'\" + anonstring + \"\\'\"\n",
    "            ev = ast.literal_eval(corrected)\n",
    "            return ev"
   ]
  },
  {
   "cell_type": "code",
   "execution_count": 7,
   "metadata": {},
   "outputs": [],
   "source": [
    "profiles['favorites_anime'] = profiles['favorites_anime'].apply(perfectEval)"
   ]
  },
  {
   "cell_type": "markdown",
   "metadata": {},
   "source": [
    "## Removing Duplicates\n",
    "Let's take a look at duplicated data in the profiles dataset, and remove them."
   ]
  },
  {
   "cell_type": "code",
   "execution_count": 8,
   "metadata": {},
   "outputs": [
    {
     "name": "stdout",
     "output_type": "stream",
     "text": [
      "Total profiles: \n",
      "81727\n",
      "unique profiles:\n",
      "47885\n"
     ]
    }
   ],
   "source": [
    "print('Total profiles: ')\n",
    "print(len(profiles))\n",
    "print('unique profiles:')\n",
    "print(len(profiles['profile'].unique()))"
   ]
  },
  {
   "cell_type": "code",
   "execution_count": 9,
   "metadata": {},
   "outputs": [],
   "source": [
    "profiles = profiles.sort_values('profile').drop_duplicates(subset=['profile'], keep='last')"
   ]
  },
  {
   "cell_type": "code",
   "execution_count": 10,
   "metadata": {},
   "outputs": [
    {
     "name": "stdout",
     "output_type": "stream",
     "text": [
      "47885\n"
     ]
    }
   ],
   "source": [
    "print(len(profiles))"
   ]
  },
  {
   "cell_type": "markdown",
   "metadata": {},
   "source": [
    ">Why is removing duplicates important in data science? It is because duplicates can skew data by affecting the mean or the mode, which can throw off tests like p-value. Another reason to remove duplicates is because they can slow down the training process. More entries means that the algorithm has to spend more time processing the data."
   ]
  },
  {
   "cell_type": "markdown",
   "metadata": {},
   "source": [
    "# Removing Users with No Favorites\n",
    "Next, we have to consider the case of users who have not made any favorites. This could be a new user or a user who uses the website for other purposes than keeping a log of favorites. Our algorithm cannot handle predicting users without favorites because there isn't enough information for the algorithm to work on. We will have to remove these."
   ]
  },
  {
   "cell_type": "code",
   "execution_count": 11,
   "metadata": {},
   "outputs": [],
   "source": [
    "profiles['fav_len'] = profiles['favorites_anime'].apply(len)"
   ]
  },
  {
   "cell_type": "code",
   "execution_count": 12,
   "metadata": {},
   "outputs": [
    {
     "data": {
      "text/html": [
       "<div>\n",
       "<style scoped>\n",
       "    .dataframe tbody tr th:only-of-type {\n",
       "        vertical-align: middle;\n",
       "    }\n",
       "\n",
       "    .dataframe tbody tr th {\n",
       "        vertical-align: top;\n",
       "    }\n",
       "\n",
       "    .dataframe thead th {\n",
       "        text-align: right;\n",
       "    }\n",
       "</style>\n",
       "<table border=\"1\" class=\"dataframe\">\n",
       "  <thead>\n",
       "    <tr style=\"text-align: right;\">\n",
       "      <th></th>\n",
       "      <th>profile</th>\n",
       "      <th>gender</th>\n",
       "      <th>birthday</th>\n",
       "      <th>favorites_anime</th>\n",
       "      <th>link</th>\n",
       "      <th>fav_len</th>\n",
       "    </tr>\n",
       "  </thead>\n",
       "  <tbody>\n",
       "    <tr>\n",
       "      <th>10861</th>\n",
       "      <td>-----noname-----</td>\n",
       "      <td>NaN</td>\n",
       "      <td>Dec 31, 2019</td>\n",
       "      <td>[6774, 245, 2001, 11061, 16592, 1575, 21]</td>\n",
       "      <td>https://myanimelist.net/profile/-----noname-----</td>\n",
       "      <td>7</td>\n",
       "    </tr>\n",
       "    <tr>\n",
       "      <th>74177</th>\n",
       "      <td>---SnowFlake---</td>\n",
       "      <td>NaN</td>\n",
       "      <td>NaN</td>\n",
       "      <td>[2904, 6773, 10790]</td>\n",
       "      <td>https://myanimelist.net/profile/---SnowFlake---</td>\n",
       "      <td>3</td>\n",
       "    </tr>\n",
       "    <tr>\n",
       "      <th>66586</th>\n",
       "      <td>---was-----</td>\n",
       "      <td>NaN</td>\n",
       "      <td>NaN</td>\n",
       "      <td>[]</td>\n",
       "      <td>https://myanimelist.net/profile/---was-----</td>\n",
       "      <td>0</td>\n",
       "    </tr>\n",
       "    <tr>\n",
       "      <th>70699</th>\n",
       "      <td>--EYEPATCH--</td>\n",
       "      <td>Male</td>\n",
       "      <td>Oct 28, 2000</td>\n",
       "      <td>[]</td>\n",
       "      <td>https://myanimelist.net/profile/--EYEPATCH--</td>\n",
       "      <td>0</td>\n",
       "    </tr>\n",
       "    <tr>\n",
       "      <th>79974</th>\n",
       "      <td>--Mizu--</td>\n",
       "      <td>Female</td>\n",
       "      <td>Jul 3, 1995</td>\n",
       "      <td>[21, 177, 6864, 4081, 5678, 23289]</td>\n",
       "      <td>https://myanimelist.net/profile/--Mizu--</td>\n",
       "      <td>6</td>\n",
       "    </tr>\n",
       "  </tbody>\n",
       "</table>\n",
       "</div>"
      ],
      "text/plain": [
       "                profile  gender      birthday  \\\n",
       "10861  -----noname-----     NaN  Dec 31, 2019   \n",
       "74177   ---SnowFlake---     NaN           NaN   \n",
       "66586       ---was-----     NaN           NaN   \n",
       "70699      --EYEPATCH--    Male  Oct 28, 2000   \n",
       "79974          --Mizu--  Female   Jul 3, 1995   \n",
       "\n",
       "                                 favorites_anime  \\\n",
       "10861  [6774, 245, 2001, 11061, 16592, 1575, 21]   \n",
       "74177                        [2904, 6773, 10790]   \n",
       "66586                                         []   \n",
       "70699                                         []   \n",
       "79974         [21, 177, 6864, 4081, 5678, 23289]   \n",
       "\n",
       "                                                   link  fav_len  \n",
       "10861  https://myanimelist.net/profile/-----noname-----        7  \n",
       "74177   https://myanimelist.net/profile/---SnowFlake---        3  \n",
       "66586       https://myanimelist.net/profile/---was-----        0  \n",
       "70699      https://myanimelist.net/profile/--EYEPATCH--        0  \n",
       "79974          https://myanimelist.net/profile/--Mizu--        6  "
      ]
     },
     "execution_count": 12,
     "metadata": {},
     "output_type": "execute_result"
    }
   ],
   "source": [
    "profiles.head()"
   ]
  },
  {
   "cell_type": "code",
   "execution_count": 13,
   "metadata": {},
   "outputs": [
    {
     "name": "stdout",
     "output_type": "stream",
     "text": [
      "10422\n"
     ]
    }
   ],
   "source": [
    "print(len(profiles[profiles['fav_len'] == 0]))"
   ]
  },
  {
   "cell_type": "markdown",
   "metadata": {},
   "source": [
    "We can see that there are over 10k users who have no favorites, about a quarter of all unique users."
   ]
  },
  {
   "cell_type": "code",
   "execution_count": 14,
   "metadata": {},
   "outputs": [],
   "source": [
    "profiles = profiles[profiles['fav_len'] > 0]"
   ]
  },
  {
   "cell_type": "markdown",
   "metadata": {},
   "source": [
    "With duplicates removed, we should now save the data into a csv file so we won't lose all of our progress."
   ]
  },
  {
   "cell_type": "code",
   "execution_count": 15,
   "metadata": {},
   "outputs": [
    {
     "data": {
      "text/html": [
       "<div>\n",
       "<style scoped>\n",
       "    .dataframe tbody tr th:only-of-type {\n",
       "        vertical-align: middle;\n",
       "    }\n",
       "\n",
       "    .dataframe tbody tr th {\n",
       "        vertical-align: top;\n",
       "    }\n",
       "\n",
       "    .dataframe thead th {\n",
       "        text-align: right;\n",
       "    }\n",
       "</style>\n",
       "<table border=\"1\" class=\"dataframe\">\n",
       "  <thead>\n",
       "    <tr style=\"text-align: right;\">\n",
       "      <th></th>\n",
       "      <th>profile</th>\n",
       "      <th>gender</th>\n",
       "      <th>birthday</th>\n",
       "      <th>favorites_anime</th>\n",
       "      <th>link</th>\n",
       "      <th>fav_len</th>\n",
       "    </tr>\n",
       "  </thead>\n",
       "  <tbody>\n",
       "    <tr>\n",
       "      <th>10861</th>\n",
       "      <td>-----noname-----</td>\n",
       "      <td>NaN</td>\n",
       "      <td>Dec 31, 2019</td>\n",
       "      <td>[6774, 245, 2001, 11061, 16592, 1575, 21]</td>\n",
       "      <td>https://myanimelist.net/profile/-----noname-----</td>\n",
       "      <td>7</td>\n",
       "    </tr>\n",
       "    <tr>\n",
       "      <th>74177</th>\n",
       "      <td>---SnowFlake---</td>\n",
       "      <td>NaN</td>\n",
       "      <td>NaN</td>\n",
       "      <td>[2904, 6773, 10790]</td>\n",
       "      <td>https://myanimelist.net/profile/---SnowFlake---</td>\n",
       "      <td>3</td>\n",
       "    </tr>\n",
       "    <tr>\n",
       "      <th>79974</th>\n",
       "      <td>--Mizu--</td>\n",
       "      <td>Female</td>\n",
       "      <td>Jul 3, 1995</td>\n",
       "      <td>[21, 177, 6864, 4081, 5678, 23289]</td>\n",
       "      <td>https://myanimelist.net/profile/--Mizu--</td>\n",
       "      <td>6</td>\n",
       "    </tr>\n",
       "    <tr>\n",
       "      <th>43928</th>\n",
       "      <td>--Sunclaudius</td>\n",
       "      <td>Male</td>\n",
       "      <td>NaN</td>\n",
       "      <td>[34561, 6594, 13125]</td>\n",
       "      <td>https://myanimelist.net/profile/--Sunclaudius</td>\n",
       "      <td>3</td>\n",
       "    </tr>\n",
       "    <tr>\n",
       "      <th>2829</th>\n",
       "      <td>--animeislife--</td>\n",
       "      <td>Female</td>\n",
       "      <td>Jul 19, 1996</td>\n",
       "      <td>[249, 14467, 13601, 9989, 10793, 16498, 8460, ...</td>\n",
       "      <td>https://myanimelist.net/profile/--animeislife--</td>\n",
       "      <td>8</td>\n",
       "    </tr>\n",
       "  </tbody>\n",
       "</table>\n",
       "</div>"
      ],
      "text/plain": [
       "                profile  gender      birthday  \\\n",
       "10861  -----noname-----     NaN  Dec 31, 2019   \n",
       "74177   ---SnowFlake---     NaN           NaN   \n",
       "79974          --Mizu--  Female   Jul 3, 1995   \n",
       "43928     --Sunclaudius    Male           NaN   \n",
       "2829    --animeislife--  Female  Jul 19, 1996   \n",
       "\n",
       "                                         favorites_anime  \\\n",
       "10861          [6774, 245, 2001, 11061, 16592, 1575, 21]   \n",
       "74177                                [2904, 6773, 10790]   \n",
       "79974                 [21, 177, 6864, 4081, 5678, 23289]   \n",
       "43928                               [34561, 6594, 13125]   \n",
       "2829   [249, 14467, 13601, 9989, 10793, 16498, 8460, ...   \n",
       "\n",
       "                                                   link  fav_len  \n",
       "10861  https://myanimelist.net/profile/-----noname-----        7  \n",
       "74177   https://myanimelist.net/profile/---SnowFlake---        3  \n",
       "79974          https://myanimelist.net/profile/--Mizu--        6  \n",
       "43928     https://myanimelist.net/profile/--Sunclaudius        3  \n",
       "2829    https://myanimelist.net/profile/--animeislife--        8  "
      ]
     },
     "execution_count": 15,
     "metadata": {},
     "output_type": "execute_result"
    }
   ],
   "source": [
    "profiles.head()"
   ]
  },
  {
   "cell_type": "code",
   "execution_count": 16,
   "metadata": {},
   "outputs": [],
   "source": [
    "profiles[['profile', 'gender', 'favorites_anime']].to_csv('../data/profiles_clean.csv', index=0)"
   ]
  },
  {
   "cell_type": "markdown",
   "metadata": {},
   "source": [
    "Finally, we are done pre-processing the data. All of our data has been cleaned, duplicates removed, and formatted properly for our next task, which is to combine the two datasets together. We will be covering the prediction of user gender as well as how to combine the two datasets in preparation for machine learning in the next blog post."
   ]
  }
 ],
 "metadata": {
  "interpreter": {
   "hash": "e58bee93fc224c7a286422faeec37fb8e5e546f812e9d0973ae4eb5c691cd7b0"
  },
  "kernelspec": {
   "display_name": "Python 3.8.12 ('keras')",
   "language": "python",
   "name": "python3"
  },
  "language_info": {
   "codemirror_mode": {
    "name": "ipython",
    "version": 3
   },
   "file_extension": ".py",
   "mimetype": "text/x-python",
   "name": "python",
   "nbconvert_exporter": "python",
   "pygments_lexer": "ipython3",
   "version": "3.8.12"
  },
  "orig_nbformat": 4
 },
 "nbformat": 4,
 "nbformat_minor": 2
}
